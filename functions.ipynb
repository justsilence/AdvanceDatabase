{
 "cells": [
  {
   "cell_type": "code",
   "execution_count": 1,
   "metadata": {},
   "outputs": [],
   "source": [
    "from neo4j import GraphDatabase\n",
    "import pickle\n",
    "import pandas as pd\n",
    "from collections import defaultdict"
   ]
  },
  {
   "cell_type": "code",
   "execution_count": 2,
   "metadata": {},
   "outputs": [],
   "source": [
    "driver = GraphDatabase.driver(\"bolt://localhost:7687\", auth=(\"neo4j\", \"lv23623600\"))"
   ]
  },
  {
   "cell_type": "markdown",
   "metadata": {},
   "source": [
    "## get user information\n",
    "- input: user_id\n",
    "- output: dict_table\n",
    "    - keys: account_id\n",
    "    - values: transactions"
   ]
  },
  {
   "cell_type": "code",
   "execution_count": 3,
   "metadata": {},
   "outputs": [],
   "source": [
    "def get_user_transaction(user_id):\n",
    "    with driver.session() as session:\n",
    "        res = session.run(\"match (a:Account) -[:belongTo]-> (c:Customer { id : $id }) return a\", id = user_id )\n",
    "        all_account = []\n",
    "        for record in res:\n",
    "            for item in record:\n",
    "                all_account.append(item[\"id\"])\n",
    "        \n",
    "        user_transaction_table = defaultdict(list)\n",
    "        \n",
    "        # 转出\n",
    "        for account_id in all_account:\n",
    "            res = session.run(\"match (a:Account {id : $id}) -[r:transaction]-> (b:Account) return r,a,b\",id = account_id)\n",
    "            for record in res:\n",
    "                user_transaction_table[account_id].append([record['a']['id'],record['b']['id'],record['r']['TR_TM'],record['r']['TR_NO'],record['r']['TR_AM'],record['r']['OPR_id'],-1])\n",
    "            \n",
    "        # 转入\n",
    "        for account_id in all_account:\n",
    "            res = session.run(\"match (a:Account {id : $id}) <-[r:transaction]- (b:Account) return r,a,b\",id = account_id)\n",
    "            for record in res:\n",
    "                user_transaction_table[account_id].append([record['a']['id'],record['b']['id'],record['r']['TR_TM'],record['r']['TR_NO'],record['r']['TR_AM'],record['r']['OPR_id'],1])\n",
    "        \n",
    "        return user_transaction_table"
   ]
  },
  {
   "cell_type": "code",
   "execution_count": 4,
   "metadata": {},
   "outputs": [],
   "source": [
    "user_transaction_table = get_user_transaction(39868635)"
   ]
  },
  {
   "cell_type": "code",
   "execution_count": 9,
   "metadata": {},
   "outputs": [
    {
     "name": "stdout",
     "output_type": "stream",
     "text": [
      "[[9628017867, 5230792217, '06-SEP-18', 'IB00230117000068', 663397, 'IB0023', -1], [9628017867, 9484428688, '04-SEP-18', 'IB00350117000008', 636854, 'IB0035', -1], [9628017867, 7417148055, '02-SEP-18', 'IB00370117000016', 25028, 'IB0037', -1], [9628017867, 1761934891, '01-SEP-18', 'IB00210117000076', 368084, 'IB0021', 1], [9628017867, 9115786377, '27-AUG-18', 'ED00330101000098', 827708, 'ED0033', 1], [9628017867, 9585954512, '04-SEP-18', 'IB00090117000004', 417541, 'IB0009', 1], [9628017867, 8716053091, '31-AUG-18', 'IB00250141000267', 69301, 'IB0025', 1], [9628017867, 3391910758, '15-AUG-18', 'IB00390141000347', 220831, 'IB0039', 1], [9628017867, 5201087596, '04-SEP-18', 'IB00310117000082', 978997, 'IB0031', 1], [9628017867, 5159874764, '30-AUG-18', 'YL00080138000571', 87506, 'YL0008', 1]]\n"
     ]
    }
   ],
   "source": [
    "print(user_transaction_table[9628017867])"
   ]
  },
  {
   "cell_type": "markdown",
   "metadata": {},
   "source": [
    "## get card information\n",
    "- input: card_id, user_infor_table\n",
    "- output: all transaction for a card"
   ]
  },
  {
   "cell_type": "code",
   "execution_count": 137,
   "metadata": {},
   "outputs": [],
   "source": [
    "def get_card_transaction(card_id,user_transaction_table):\n",
    "    all_trans_for_an_card = user_transaction_table[card_id]\n",
    "    card_transaction = pd.DataFrame(data = all_trans_for_an_card, index = range(len(all_trans_for_an_card)), columns = [\"MY CARD\",\"TO CARD\",\"TRAN TIME\",\"TRAN NUMBER\", \"TRAN AMOUNT\",\"OPR ID\",\"FLAG\" ] )\n",
    "    card_transaction[\"TRAN TIME\"] = pd.to_datetime(card_transaction[\"TRAN TIME\"])\n",
    "    card_transaction = card_transaction.set_index(\"TRAN TIME\").sort_index()\n",
    "    return card_transaction"
   ]
  },
  {
   "cell_type": "code",
   "execution_count": 138,
   "metadata": {},
   "outputs": [
    {
     "data": {
      "text/html": [
       "<div>\n",
       "<style scoped>\n",
       "    .dataframe tbody tr th:only-of-type {\n",
       "        vertical-align: middle;\n",
       "    }\n",
       "\n",
       "    .dataframe tbody tr th {\n",
       "        vertical-align: top;\n",
       "    }\n",
       "\n",
       "    .dataframe thead th {\n",
       "        text-align: right;\n",
       "    }\n",
       "</style>\n",
       "<table border=\"1\" class=\"dataframe\">\n",
       "  <thead>\n",
       "    <tr style=\"text-align: right;\">\n",
       "      <th></th>\n",
       "      <th>MY CARD</th>\n",
       "      <th>TO CARD</th>\n",
       "      <th>TRAN NUMBER</th>\n",
       "      <th>TRAN AMOUNT</th>\n",
       "      <th>OPR ID</th>\n",
       "      <th>FLAG</th>\n",
       "    </tr>\n",
       "    <tr>\n",
       "      <th>TRAN TIME</th>\n",
       "      <th></th>\n",
       "      <th></th>\n",
       "      <th></th>\n",
       "      <th></th>\n",
       "      <th></th>\n",
       "      <th></th>\n",
       "    </tr>\n",
       "  </thead>\n",
       "  <tbody>\n",
       "    <tr>\n",
       "      <th>2018-08-15</th>\n",
       "      <td>9628017867</td>\n",
       "      <td>3391910758</td>\n",
       "      <td>IB00390141000347</td>\n",
       "      <td>220831</td>\n",
       "      <td>IB0039</td>\n",
       "      <td>1</td>\n",
       "    </tr>\n",
       "    <tr>\n",
       "      <th>2018-08-27</th>\n",
       "      <td>9628017867</td>\n",
       "      <td>9115786377</td>\n",
       "      <td>ED00330101000098</td>\n",
       "      <td>827708</td>\n",
       "      <td>ED0033</td>\n",
       "      <td>1</td>\n",
       "    </tr>\n",
       "    <tr>\n",
       "      <th>2018-08-30</th>\n",
       "      <td>9628017867</td>\n",
       "      <td>5159874764</td>\n",
       "      <td>YL00080138000571</td>\n",
       "      <td>87506</td>\n",
       "      <td>YL0008</td>\n",
       "      <td>1</td>\n",
       "    </tr>\n",
       "    <tr>\n",
       "      <th>2018-08-31</th>\n",
       "      <td>9628017867</td>\n",
       "      <td>8716053091</td>\n",
       "      <td>IB00250141000267</td>\n",
       "      <td>69301</td>\n",
       "      <td>IB0025</td>\n",
       "      <td>1</td>\n",
       "    </tr>\n",
       "    <tr>\n",
       "      <th>2018-09-01</th>\n",
       "      <td>9628017867</td>\n",
       "      <td>1761934891</td>\n",
       "      <td>IB00210117000076</td>\n",
       "      <td>368084</td>\n",
       "      <td>IB0021</td>\n",
       "      <td>1</td>\n",
       "    </tr>\n",
       "    <tr>\n",
       "      <th>2018-09-02</th>\n",
       "      <td>9628017867</td>\n",
       "      <td>7417148055</td>\n",
       "      <td>IB00370117000016</td>\n",
       "      <td>25028</td>\n",
       "      <td>IB0037</td>\n",
       "      <td>-1</td>\n",
       "    </tr>\n",
       "    <tr>\n",
       "      <th>2018-09-04</th>\n",
       "      <td>9628017867</td>\n",
       "      <td>9484428688</td>\n",
       "      <td>IB00350117000008</td>\n",
       "      <td>636854</td>\n",
       "      <td>IB0035</td>\n",
       "      <td>-1</td>\n",
       "    </tr>\n",
       "    <tr>\n",
       "      <th>2018-09-04</th>\n",
       "      <td>9628017867</td>\n",
       "      <td>9585954512</td>\n",
       "      <td>IB00090117000004</td>\n",
       "      <td>417541</td>\n",
       "      <td>IB0009</td>\n",
       "      <td>1</td>\n",
       "    </tr>\n",
       "    <tr>\n",
       "      <th>2018-09-04</th>\n",
       "      <td>9628017867</td>\n",
       "      <td>5201087596</td>\n",
       "      <td>IB00310117000082</td>\n",
       "      <td>978997</td>\n",
       "      <td>IB0031</td>\n",
       "      <td>1</td>\n",
       "    </tr>\n",
       "    <tr>\n",
       "      <th>2018-09-06</th>\n",
       "      <td>9628017867</td>\n",
       "      <td>5230792217</td>\n",
       "      <td>IB00230117000068</td>\n",
       "      <td>663397</td>\n",
       "      <td>IB0023</td>\n",
       "      <td>-1</td>\n",
       "    </tr>\n",
       "  </tbody>\n",
       "</table>\n",
       "</div>"
      ],
      "text/plain": [
       "               MY CARD     TO CARD       TRAN NUMBER  TRAN AMOUNT  OPR ID  \\\n",
       "TRAN TIME                                                                   \n",
       "2018-08-15  9628017867  3391910758  IB00390141000347       220831  IB0039   \n",
       "2018-08-27  9628017867  9115786377  ED00330101000098       827708  ED0033   \n",
       "2018-08-30  9628017867  5159874764  YL00080138000571        87506  YL0008   \n",
       "2018-08-31  9628017867  8716053091  IB00250141000267        69301  IB0025   \n",
       "2018-09-01  9628017867  1761934891  IB00210117000076       368084  IB0021   \n",
       "2018-09-02  9628017867  7417148055  IB00370117000016        25028  IB0037   \n",
       "2018-09-04  9628017867  9484428688  IB00350117000008       636854  IB0035   \n",
       "2018-09-04  9628017867  9585954512  IB00090117000004       417541  IB0009   \n",
       "2018-09-04  9628017867  5201087596  IB00310117000082       978997  IB0031   \n",
       "2018-09-06  9628017867  5230792217  IB00230117000068       663397  IB0023   \n",
       "\n",
       "            FLAG  \n",
       "TRAN TIME         \n",
       "2018-08-15     1  \n",
       "2018-08-27     1  \n",
       "2018-08-30     1  \n",
       "2018-08-31     1  \n",
       "2018-09-01     1  \n",
       "2018-09-02    -1  \n",
       "2018-09-04    -1  \n",
       "2018-09-04     1  \n",
       "2018-09-04     1  \n",
       "2018-09-06    -1  "
      ]
     },
     "execution_count": 138,
     "metadata": {},
     "output_type": "execute_result"
    }
   ],
   "source": [
    "user_transaction_table = get_user_transaction(39868635)\n",
    "card_transaction = get_card_transaction(9628017867,user_transaction_table)\n",
    "card_transaction"
   ]
  },
  {
   "cell_type": "markdown",
   "metadata": {},
   "source": [
    "## Analysis for an card\n",
    "- 转入总金额\n",
    "- 转出总金额\n",
    "- 转入与转出的差值\n",
    "- 基于时间的转入总金额\n",
    "- 基于时间的转出总金额\n",
    "- 基于时间的转入与转出的差值"
   ]
  },
  {
   "cell_type": "code",
   "execution_count": 166,
   "metadata": {},
   "outputs": [],
   "source": [
    "def analysis_account(card_transaction, time1 = None, time2 = None):\n",
    "    \n",
    "    sum_in = None\n",
    "    sum_out = None\n",
    "    time_sum_in = None\n",
    "    time_sum_out = None\n",
    "    difference = None\n",
    "    time_difference = None\n",
    "    \n",
    "    groups = card_transaction.groupby([\"FLAG\"])\n",
    "    for name, group in groups:\n",
    "        if name == -1:\n",
    "            sum_out = group[\"TRAN AMOUNT\"].sum()\n",
    "        else:\n",
    "            sum_in = group[\"TRAN AMOUNT\"].sum()\n",
    "        \n",
    "        #if time1 and time2:\n",
    "        group = group[time1:time2]\n",
    "        if name == -1:\n",
    "            time_sum_out = group[\"TRAN AMOUNT\"].sum()\n",
    "        else:\n",
    "            time_sum_in = group[\"TRAN AMOUNT\"].sum()\n",
    "        \n",
    "\n",
    "    difference = sum_in - sum_out\n",
    "    time_difference = time_sum_in - time_sum_out\n",
    "    \n",
    "    return sum_in, sum_out, time_sum_out, time_sum_in, difference, time_difference"
   ]
  },
  {
   "cell_type": "code",
   "execution_count": 168,
   "metadata": {},
   "outputs": [
    {
     "name": "stdout",
     "output_type": "stream",
     "text": [
      "2969968\n",
      "1325279\n",
      "661882\n",
      "2749137\n",
      "1644689\n",
      "2087255\n"
     ]
    }
   ],
   "source": [
    "sum_in, sum_out, time_sum_out, time_sum_in, difference, time_difference = analysis_account(card_transaction, \"2018-08-27\", \"2018-09-04\")\n",
    "print(sum_in)\n",
    "print(sum_out)\n",
    "print(time_sum_out)\n",
    "print(time_sum_in)\n",
    "print(difference)\n",
    "print(time_difference)"
   ]
  },
  {
   "cell_type": "markdown",
   "metadata": {},
   "source": [
    "## get teller information"
   ]
  },
  {
   "cell_type": "code",
   "execution_count": 11,
   "metadata": {},
   "outputs": [],
   "source": [
    "def get_teller_transaction(teller_id ):\n",
    "    with driver.session() as session:\n",
    "        res = session.run(\"match (t:Teller { id : $id }) -[:serve]-> (a:Account) return a\", id = teller_id )\n",
    "        all_account = []\n",
    "        for record in res:\n",
    "            for item in record:\n",
    "                all_account.append(item[\"id\"])\n",
    "        \n",
    "        teller_transaction = []\n",
    "        \n",
    "        # 转出\n",
    "        for account_id in all_account:\n",
    "            res = session.run(\"match (a:Account {id : $acc_id}) -[r:transaction]-> (b:Account) where r.OPR_id = $opr_id return r,a,b\",acc_id = account_id, opr_id = teller_id )\n",
    "            for record in res:\n",
    "                teller_transaction.append([record['a']['id'],record['b']['id'],record['r']['TR_TM'],record['r']['TR_NO'],record['r']['TR_AM'],record['r']['OPR_id']])\n",
    "        \n",
    "        \n",
    "        teller_transaction = pd.DataFrame(data = teller_transaction, index = range(len(teller_transaction)), columns = [\"FROM CARD\",\"TO CARD\",\"TRAN TIME\",\"TRAN NUMBER\", \"TRAN AMOUNT\",\"OPR ID\"] )\n",
    "        teller_transaction[\"TRAN TIME\"] = pd.to_datetime(teller_transaction[\"TRAN TIME\"])\n",
    "        teller_transaction = teller_transaction.set_index(\"TRAN TIME\").sort_index()\n",
    "        \n",
    "        return teller_transaction"
   ]
  },
  {
   "cell_type": "code",
   "execution_count": 12,
   "metadata": {},
   "outputs": [],
   "source": [
    "teller_id = \"IB0037\"\n",
    "teller_transaction = get_teller_transaction(teller_id)"
   ]
  },
  {
   "cell_type": "markdown",
   "metadata": {},
   "source": [
    "## analysis for teller\n",
    "- daily amount\n",
    "- time interval transaction\n",
    "- time interval amount\n",
    "- account transaction\n",
    "- major account"
   ]
  },
  {
   "cell_type": "code",
   "execution_count": 182,
   "metadata": {},
   "outputs": [
    {
     "data": {
      "text/html": [
       "<div>\n",
       "<style scoped>\n",
       "    .dataframe tbody tr th:only-of-type {\n",
       "        vertical-align: middle;\n",
       "    }\n",
       "\n",
       "    .dataframe tbody tr th {\n",
       "        vertical-align: top;\n",
       "    }\n",
       "\n",
       "    .dataframe thead th {\n",
       "        text-align: right;\n",
       "    }\n",
       "</style>\n",
       "<table border=\"1\" class=\"dataframe\">\n",
       "  <thead>\n",
       "    <tr style=\"text-align: right;\">\n",
       "      <th></th>\n",
       "      <th>FROM CARD</th>\n",
       "      <th>TO CARD</th>\n",
       "      <th>TRAN NUMBER</th>\n",
       "      <th>TRAN AMOUNT</th>\n",
       "      <th>OPR ID</th>\n",
       "    </tr>\n",
       "    <tr>\n",
       "      <th>TRAN TIME</th>\n",
       "      <th></th>\n",
       "      <th></th>\n",
       "      <th></th>\n",
       "      <th></th>\n",
       "      <th></th>\n",
       "    </tr>\n",
       "  </thead>\n",
       "  <tbody>\n",
       "    <tr>\n",
       "      <th>2018-08-15</th>\n",
       "      <td>8897675198</td>\n",
       "      <td>3703409130</td>\n",
       "      <td>IB00370117000006</td>\n",
       "      <td>762229</td>\n",
       "      <td>IB0037</td>\n",
       "    </tr>\n",
       "    <tr>\n",
       "      <th>2018-08-15</th>\n",
       "      <td>2205064882</td>\n",
       "      <td>4214662502</td>\n",
       "      <td>IB00370117000069</td>\n",
       "      <td>544656</td>\n",
       "      <td>IB0037</td>\n",
       "    </tr>\n",
       "    <tr>\n",
       "      <th>2018-08-15</th>\n",
       "      <td>1494869472</td>\n",
       "      <td>1497866091</td>\n",
       "      <td>IB00370117000068</td>\n",
       "      <td>224184</td>\n",
       "      <td>IB0037</td>\n",
       "    </tr>\n",
       "    <tr>\n",
       "      <th>2018-08-15</th>\n",
       "      <td>3317718363</td>\n",
       "      <td>3933450537</td>\n",
       "      <td>IB00370117000028</td>\n",
       "      <td>355465</td>\n",
       "      <td>IB0037</td>\n",
       "    </tr>\n",
       "    <tr>\n",
       "      <th>2018-08-15</th>\n",
       "      <td>2321935333</td>\n",
       "      <td>3523918870</td>\n",
       "      <td>IB00370117000026</td>\n",
       "      <td>817189</td>\n",
       "      <td>IB0037</td>\n",
       "    </tr>\n",
       "  </tbody>\n",
       "</table>\n",
       "</div>"
      ],
      "text/plain": [
       "             FROM CARD     TO CARD       TRAN NUMBER  TRAN AMOUNT  OPR ID\n",
       "TRAN TIME                                                                \n",
       "2018-08-15  8897675198  3703409130  IB00370117000006       762229  IB0037\n",
       "2018-08-15  2205064882  4214662502  IB00370117000069       544656  IB0037\n",
       "2018-08-15  1494869472  1497866091  IB00370117000068       224184  IB0037\n",
       "2018-08-15  3317718363  3933450537  IB00370117000028       355465  IB0037\n",
       "2018-08-15  2321935333  3523918870  IB00370117000026       817189  IB0037"
      ]
     },
     "execution_count": 182,
     "metadata": {},
     "output_type": "execute_result"
    }
   ],
   "source": [
    "teller_transaction.head()"
   ]
  },
  {
   "cell_type": "code",
   "execution_count": 26,
   "metadata": {},
   "outputs": [],
   "source": [
    "def analysis_teller(teller_transaction, time1 = None, time2 = None):\n",
    "    daily_amount = None\n",
    "    time_interval_transaction = None\n",
    "    time_interval_amount = None\n",
    "    card_transaction = None\n",
    "    major_account = None\n",
    "    max_value = None\n",
    "    \n",
    "    if time1 and time2:    \n",
    "        time_interval_transaction = teller_transaction[time1:time2]\n",
    "        time_interval_amount = time_interval_transaction[\"TRAN AMOUNT\"].sum()\n",
    "\n",
    "    daily_amount = teller_transaction.groupby(\"TRAN TIME\")[\"TRAN AMOUNT\"].sum()\n",
    "    card_transaction = teller_transaction.groupby(\"FROM CARD\")[\"TRAN AMOUNT\"].sum()\n",
    "    major_account,max_value = card_transaction.idxmax(),card_transaction.max()\n",
    "    \n",
    "    \n",
    "    return daily_amount,time_interval_transaction,time_interval_amount,card_transaction,(major_account,max_value)\n",
    "    \n",
    "daily_amount,time_interval_transaction,time_interval_amount,card_transaction, major = analysis_teller(teller_transaction, time1 = \"2018-08-16\", time2 = \"2018-08-18\")  "
   ]
  },
  {
   "cell_type": "code",
   "execution_count": 49,
   "metadata": {},
   "outputs": [
    {
     "data": {
      "text/plain": [
       "[['2018-08-15 00:00:00', '5541678'],\n",
       " ['2018-08-16 00:00:00', '5550482'],\n",
       " ['2018-08-17 00:00:00', '3271752'],\n",
       " ['2018-08-18 00:00:00', '4554159'],\n",
       " ['2018-08-19 00:00:00', '6387881'],\n",
       " ['2018-08-20 00:00:00', '7812532'],\n",
       " ['2018-08-21 00:00:00', '3911297'],\n",
       " ['2018-08-22 00:00:00', '7433995'],\n",
       " ['2018-08-23 00:00:00', '9952583'],\n",
       " ['2018-08-24 00:00:00', '10260241'],\n",
       " ['2018-08-25 00:00:00', '11486662'],\n",
       " ['2018-08-26 00:00:00', '8172498'],\n",
       " ['2018-08-27 00:00:00', '14422007'],\n",
       " ['2018-08-28 00:00:00', '11323408'],\n",
       " ['2018-08-29 00:00:00', '20609951'],\n",
       " ['2018-08-30 00:00:00', '27751773'],\n",
       " ['2018-08-31 00:00:00', '25074929'],\n",
       " ['2018-09-01 00:00:00', '14573179'],\n",
       " ['2018-09-02 00:00:00', '17033254'],\n",
       " ['2018-09-03 00:00:00', '21993054'],\n",
       " ['2018-09-04 00:00:00', '22344893'],\n",
       " ['2018-09-05 00:00:00', '15769191'],\n",
       " ['2018-09-06 00:00:00', '11604388'],\n",
       " ['2018-09-07 00:00:00', '8122586'],\n",
       " ['2018-09-08 00:00:00', '4911167'],\n",
       " ['2018-09-09 00:00:00', '7116237'],\n",
       " ['2018-09-10 00:00:00', '5918148'],\n",
       " ['2018-09-11 00:00:00', '4750267'],\n",
       " ['2018-09-12 00:00:00', '3133866'],\n",
       " ['2018-09-13 00:00:00', '3283814'],\n",
       " ['2018-09-14 00:00:00', '2452536']]"
      ]
     },
     "execution_count": 49,
     "metadata": {},
     "output_type": "execute_result"
    }
   ],
   "source": [
    "[[ str(item) for item in line]  for line in daily_amount.reset_index().values.tolist()]"
   ]
  },
  {
   "cell_type": "code",
   "execution_count": null,
   "metadata": {},
   "outputs": [],
   "source": []
  }
 ],
 "metadata": {
  "kernelspec": {
   "display_name": "Python 3",
   "language": "python",
   "name": "python3"
  },
  "language_info": {
   "codemirror_mode": {
    "name": "ipython",
    "version": 3
   },
   "file_extension": ".py",
   "mimetype": "text/x-python",
   "name": "python",
   "nbconvert_exporter": "python",
   "pygments_lexer": "ipython3",
   "version": "3.7.3"
  }
 },
 "nbformat": 4,
 "nbformat_minor": 2
}
